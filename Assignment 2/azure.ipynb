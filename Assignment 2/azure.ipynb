{
 "cells": [
  {
   "cell_type": "markdown",
   "metadata": {
    "deletable": true,
    "editable": true
   },
   "source": [
    "# Azure Storage Service Demo\n",
    "This is intended to be run on the Python 2 kernel.   \n",
    "If you have not installed azure and azure-storage un-comment the pip below and run it."
   ]
  },
  {
   "cell_type": "code",
   "execution_count": 1,
   "metadata": {
    "collapsed": false,
    "deletable": true,
    "editable": true
   },
   "outputs": [
    {
     "name": "stdout",
     "output_type": "stream",
     "text": [
      "Collecting azure-storage==0.32.0\n",
      "  Downloading https://files.pythonhosted.org/packages/60/59/916c26b9d09094fbaee0944ae70e286e21c4356a2a0f5fdaa0fcda923972/azure_storage-0.32.0-py2-none-any.whl (160kB)\n",
      "\u001b[K    100% |████████████████████████████████| 163kB 3.5MB/s eta 0:00:01\n",
      "\u001b[?25hCollecting python-dateutil (from azure-storage==0.32.0)\n",
      "  Downloading https://files.pythonhosted.org/packages/36/7a/87837f39d0296e723bb9b62bbb257d0355c7f6128853c78955f57342a56d/python_dateutil-2.8.2-py2.py3-none-any.whl (247kB)\n",
      "\u001b[K    100% |████████████████████████████████| 256kB 2.7MB/s eta 0:00:01\n",
      "\u001b[?25hCollecting azure-common (from azure-storage==0.32.0)\n",
      "  Downloading https://files.pythonhosted.org/packages/62/55/7f118b9c1b23ec15ca05d15a578d8207aa1706bc6f7c87218efffbbf875d/azure_common-1.1.28-py2.py3-none-any.whl\n",
      "Collecting requests (from azure-storage==0.32.0)\n",
      "  Downloading https://files.pythonhosted.org/packages/2d/61/08076519c80041bc0ffa1a8af0cbd3bf3e2b62af10435d269a9d0f40564d/requests-2.27.1-py2.py3-none-any.whl (63kB)\n",
      "\u001b[K    100% |████████████████████████████████| 71kB 7.4MB/s eta 0:00:01\n",
      "\u001b[?25hCollecting futures (from azure-storage==0.32.0)\n",
      "  Downloading https://files.pythonhosted.org/packages/d4/ea/9d513529a89bcbcd07c8acbac9eecfad29e7562e0b9d69d14f475987ad70/futures-3.4.0-py2-none-any.whl\n",
      "Collecting azure-nspkg (from azure-storage==0.32.0)\n",
      "  Downloading https://files.pythonhosted.org/packages/c2/95/af354f2f415d250dafe26a5d94230558aa8cf733a9dcbf0d26cd61f5a9b8/azure_nspkg-3.0.2-py2-none-any.whl\n",
      "Collecting six>=1.5 (from python-dateutil->azure-storage==0.32.0)\n",
      "  Downloading https://files.pythonhosted.org/packages/d9/5a/e7c31adbe875f2abbb91bd84cf2dc52d792b5a01506781dbcf25c91daf11/six-1.16.0-py2.py3-none-any.whl\n",
      "Collecting urllib3<1.27,>=1.21.1 (from requests->azure-storage==0.32.0)\n",
      "  Downloading https://files.pythonhosted.org/packages/b0/53/aa91e163dcfd1e5b82d8a890ecf13314e3e149c05270cc644581f77f17fd/urllib3-1.26.18-py2.py3-none-any.whl (143kB)\n",
      "\u001b[K    100% |████████████████████████████████| 153kB 4.4MB/s eta 0:00:01\n",
      "\u001b[?25hCollecting idna<3,>=2.5; python_version < \"3\" (from requests->azure-storage==0.32.0)\n",
      "  Downloading https://files.pythonhosted.org/packages/a2/38/928ddce2273eaa564f6f50de919327bf3a00f091b5baba8dfa9460f3a8a8/idna-2.10-py2.py3-none-any.whl (58kB)\n",
      "\u001b[K    100% |████████████████████████████████| 61kB 6.0MB/s eta 0:00:01\n",
      "\u001b[?25hCollecting certifi>=2017.4.17 (from requests->azure-storage==0.32.0)\n",
      "  Downloading https://files.pythonhosted.org/packages/37/45/946c02767aabb873146011e665728b680884cd8fe70dde973c640e45b775/certifi-2021.10.8-py2.py3-none-any.whl (149kB)\n",
      "\u001b[K    100% |████████████████████████████████| 153kB 4.0MB/s eta 0:00:01\n",
      "\u001b[?25hCollecting chardet<5,>=3.0.2; python_version < \"3\" (from requests->azure-storage==0.32.0)\n",
      "  Downloading https://files.pythonhosted.org/packages/19/c7/fa589626997dd07bd87d9269342ccb74b1720384a4d739a1872bd84fbe68/chardet-4.0.0-py2.py3-none-any.whl (178kB)\n",
      "\u001b[K    100% |████████████████████████████████| 184kB 3.5MB/s eta 0:00:01\n",
      "\u001b[?25hInstalling collected packages: six, python-dateutil, azure-nspkg, azure-common, urllib3, idna, certifi, chardet, requests, futures, azure-storage\n",
      "  Found existing installation: six 1.10.0\n",
      "    Uninstalling six-1.10.0:\n",
      "      Successfully uninstalled six-1.10.0\n",
      "  Found existing installation: python-dateutil 2.6.0\n",
      "    Uninstalling python-dateutil-2.6.0:\n",
      "      Successfully uninstalled python-dateutil-2.6.0\n",
      "  Found existing installation: certifi 2017.1.23\n",
      "\u001b[31m    DEPRECATION: Uninstalling a distutils installed project (certifi) has been deprecated and will be removed in a future version. This is due to the fact that uninstalling a distutils project will only partially uninstall the project.\u001b[0m\n",
      "    Uninstalling certifi-2017.1.23:\n",
      "      Successfully uninstalled certifi-2017.1.23\n",
      "  Found existing installation: requests 2.13.0\n",
      "    Uninstalling requests-2.13.0:\n",
      "      Successfully uninstalled requests-2.13.0\n",
      "  Found existing installation: futures 3.0.5\n",
      "    Uninstalling futures-3.0.5:\n",
      "      Successfully uninstalled futures-3.0.5\n",
      "Successfully installed azure-common-1.1.28 azure-nspkg-3.0.2 azure-storage-0.32.0 certifi-2021.10.8 chardet-4.0.0 futures-3.4.0 idna-2.10 python-dateutil-2.8.2 requests-2.27.1 six-1.16.0 urllib3-1.26.18\n",
      "\u001b[33mYou are using pip version 9.0.1, however version 24.0 is available.\n",
      "You should consider upgrading via the 'pip install --upgrade pip' command.\u001b[0m\n"
     ]
    }
   ],
   "source": [
    "!pip install --upgrade azure-storage==0.32.0"
   ]
  },
  {
   "cell_type": "code",
   "execution_count": 2,
   "metadata": {
    "collapsed": false,
    "deletable": true,
    "editable": true,
    "scrolled": true
   },
   "outputs": [
    {
     "name": "stdout",
     "output_type": "stream",
     "text": [
      "hello atWed Feb 21 08:36:45 2024\n"
     ]
    }
   ],
   "source": [
    "import csv\n",
    "import sys\n",
    "import azure.storage\n",
    "from azure.storage.table import TableService, Entity\n",
    "from azure.storage.blob import BlockBlobService\n",
    "from azure.storage.blob import PublicAccess\n",
    "import time\n",
    "print(\"hello at\" + time.asctime(time.localtime(time.time())))"
   ]
  },
  {
   "cell_type": "markdown",
   "metadata": {
    "deletable": true,
    "editable": true
   },
   "source": [
    "follow the instructions in the book to create a storage account.   the one used here is \"tutorial\", but you will want to pick something else and replace that name everywhere below"
   ]
  },
  {
   "cell_type": "code",
   "execution_count": 7,
   "metadata": {
    "collapsed": false,
    "deletable": true,
    "editable": true
   },
   "outputs": [
    {
     "data": {
      "text/plain": [
       "False"
      ]
     },
     "execution_count": 7,
     "metadata": {},
     "output_type": "execute_result"
    }
   ],
   "source": [
    "key = 'ends with ==' #replace with key\n",
    "account = '' #replace with account name\n",
    "block_blob_service = BlockBlobService(account_name=account,\n",
    "    account_key=key)\n",
    "block_blob_service.create_container('datacont', \n",
    "                                    public_access=PublicAccess.Container)"
   ]
  },
  {
   "cell_type": "code",
   "execution_count": 10,
   "metadata": {
    "collapsed": true,
    "deletable": true,
    "editable": true
   },
   "outputs": [],
   "source": [
    "table_service = TableService(account_name=account, \n",
    "                             account_key=key)"
   ]
  },
  {
   "cell_type": "code",
   "execution_count": 11,
   "metadata": {
    "collapsed": false,
    "deletable": true,
    "editable": true
   },
   "outputs": [
    {
     "name": "stdout",
     "output_type": "stream",
     "text": [
      "table already there\n"
     ]
    }
   ],
   "source": [
    "if table_service.create_table('DataTable'):\n",
    "    print(\"table created\")\n",
    "else:\n",
    "    print(\"table already there\")"
   ]
  },
  {
   "cell_type": "markdown",
   "metadata": {
    "collapsed": false,
    "deletable": true,
    "editable": true
   },
   "source": [
    "Now you need a directory with a csv file.  For example\n",
    "\n",
    "'experiment1', '1', '3/15/2002', 'exp1', 'this is the comment'\n",
    "\n",
    "'experiment1', '2', '3/15/2002', 'exp2', 'this is the comment2'\n",
    "\n",
    "'experiment2', '3', '3/16/2002', 'exp3', 'this is the comment3'\n",
    "\n",
    "'experiment3', '4', '3/16/2002', 'exp4', 'this is the comment233'\n",
    "\n",
    "now you need a directory datafiles that has four blobs of any type.  call them exp1, exp2, exp3, exp4.  \n",
    "we have one ready for you if you are using the tutorial container. It is stored in /datadir.\n",
    "If you are running this somewhere else you will need to make your own.  \n",
    "let's see what is there."
   ]
  },
  {
   "cell_type": "code",
   "execution_count": 12,
   "metadata": {
    "collapsed": false,
    "deletable": true,
    "editable": true
   },
   "outputs": [
    {
     "name": "stdout",
     "output_type": "stream",
     "text": [
      "['experiment1', ' id1', ' 12/1/2016', 'a.jpg', ' \"here is a view of what is to be made\"']\n",
      "['experiment1', ' id2', ' 12/3/2016', 'b.jpg', ' \"map rededuce picture\"']\n",
      "['experiment2', ' id3', ' 12/4/2016', 'c.jpg', ' \"sample notebook\"']\n",
      "['experiment3', ' id4', ' 12/5/2016', 'd.jpg', ' \"workers\"']\n",
      "['experiment1', ' id5', ' 12/6/2016', 'e.jpg', ' \"bio samples\"']\n"
     ]
    }
   ],
   "source": [
    " with open('/datadir/experiments.csv', 'rb') as csvfile:\n",
    "    csvf = csv.reader(csvfile, delimiter=',', quotechar='|')\n",
    "    for item in csvf:\n",
    "        print(item)"
   ]
  },
  {
   "cell_type": "markdown",
   "metadata": {
    "deletable": true,
    "editable": true
   },
   "source": [
    "the code below will upload the data blobs into the container \"datacont\", then create the url and upload the metadata into the table \"DataTable\"."
   ]
  },
  {
   "cell_type": "code",
   "execution_count": 15,
   "metadata": {
    "collapsed": false,
    "deletable": true,
    "editable": true
   },
   "outputs": [
    {
     "name": "stdout",
     "output_type": "stream",
     "text": [
      "['experiment1', ' id1', ' 12/1/2016', 'a.jpg', ' \"here is a view of what is to be made\"']\n",
      "['experiment1', ' id2', ' 12/3/2016', 'b.jpg', ' \"map rededuce picture\"']\n",
      "['experiment2', ' id3', ' 12/4/2016', 'c.jpg', ' \"sample notebook\"']\n",
      "['experiment3', ' id4', ' 12/5/2016', 'd.jpg', ' \"workers\"']\n",
      "['experiment1', ' id5', ' 12/6/2016', 'e.jpg', ' \"bio samples\"']\n"
     ]
    }
   ],
   "source": [
    "with open('/datadir/experiments.csv', 'rb') as csvfile:\n",
    "    csvf = csv.reader(csvfile, delimiter=',', quotechar='|')\n",
    "    for item in csvf:\n",
    "        print(item)\n",
    "        block_blob_service.create_blob_from_path(\n",
    "            'datacont', item[3], \"/datadir/\"+item[3]\n",
    "        )\n",
    "        url = \"https://\"+account+\".blob.core.windows.net/datacont/\"+item[3]\n",
    "        metadata_item = {\n",
    "            'PartitionKey': item[0], 'RowKey': item[1],\n",
    "            'description' : item[4], 'date' : item[2], 'url':url\n",
    "        }\n",
    "        #insert_or_replace_entity instead of insert_entity\n",
    "        table_service.insert_or_replace_entity('DataTable', metadata_item)\n"
   ]
  },
  {
   "cell_type": "markdown",
   "metadata": {
    "collapsed": false,
    "deletable": true,
    "editable": true
   },
   "source": [
    "Next let's do a querry for experiment1 and project onto the urls.  it should print the urls created above"
   ]
  },
  {
   "cell_type": "code",
   "execution_count": 16,
   "metadata": {
    "collapsed": false,
    "deletable": true,
    "editable": true
   },
   "outputs": [
    {
     "name": "stdout",
     "output_type": "stream",
     "text": [
      "https://annacc.blob.core.windows.net/datacont/a.jpg\n",
      "https://annacc.blob.core.windows.net/datacont/b.jpg\n",
      "https://annacc.blob.core.windows.net/datacont/e.jpg\n"
     ]
    }
   ],
   "source": [
    "tasks = table_service.query_entities('DataTable', filter=\"PartitionKey eq 'experiment1'\", select='url')\n",
    "for task in tasks:\n",
    "    print(task.url)"
   ]
  },
  {
   "cell_type": "markdown",
   "metadata": {
    "collapsed": false,
    "deletable": true,
    "editable": true
   },
   "source": [
    "The output should look somethink like\n",
    "\n",
    "https://escistore.blob.core.windows.net/datacont/exp1\n",
    "\n",
    "https://escistore.blob.core.windows.net/datacont/exp2\n",
    "\n",
    "try clicking on the links in your output\n"
   ]
  },
  {
   "cell_type": "code",
   "execution_count": null,
   "metadata": {
    "collapsed": true
   },
   "outputs": [],
   "source": []
  },
  {
   "cell_type": "markdown",
   "metadata": {
    "collapsed": true,
    "deletable": true,
    "editable": true
   },
   "source": [
    "Next download the \"azure storage explorer\" and look at you table.\n",
    "\n",
    "You will need to add the account with the key to the storage explore. "
   ]
  }
 ],
 "metadata": {
  "anaconda-cloud": {},
  "kernelspec": {
   "display_name": "Python 2",
   "language": "python",
   "name": "python2"
  },
  "language_info": {
   "codemirror_mode": {
    "name": "ipython",
    "version": 2
   },
   "file_extension": ".py",
   "mimetype": "text/x-python",
   "name": "python",
   "nbconvert_exporter": "python",
   "pygments_lexer": "ipython2",
   "version": "2.7.12"
  }
 },
 "nbformat": 4,
 "nbformat_minor": 0
}
